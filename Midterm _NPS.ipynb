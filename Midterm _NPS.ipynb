{
 "cells": [
  {
   "cell_type": "markdown",
   "metadata": {},
   "source": [
    "# NPS for Make School 2017 Summer Program\n",
    "\n",
    "\n",
    "### Instructions: https://docs.google.com/document/d/11v_d1bkFbTM4N3WU6JAbdR_9_eUChrN32-mdQ9zKaOw/preview\n",
    "\n",
    "\n",
    "### HBR NPS: https://hbr.org/2003/12/the-one-number-you-need-to-grow \n",
    "\n",
    "\"Retention rates provide, in many industries, a valuable link to profitability, but their relationship to growth is tenuous. That’s because they basically track customer defections—the degree to which a bucket is emptying rather filling up \"\n",
    "\n",
    "\"'How likely is it that you would recommend [company X] to a friend or colleague?' ranked first or second in 11 of the 14 cases studies. And in two of the three other cases, “would recommend” ranked so close behind the top two predictors that the surveys would be nearly as accurate by relying on results of this single question.\"\n",
    "\n"
   ]
  },
  {
   "cell_type": "markdown",
   "metadata": {},
   "source": [
    "## Import libraries"
   ]
  },
  {
   "cell_type": "code",
   "execution_count": 12,
   "metadata": {},
   "outputs": [
    {
     "data": {
      "text/html": [
       "<div>\n",
       "<style scoped>\n",
       "    .dataframe tbody tr th:only-of-type {\n",
       "        vertical-align: middle;\n",
       "    }\n",
       "\n",
       "    .dataframe tbody tr th {\n",
       "        vertical-align: top;\n",
       "    }\n",
       "\n",
       "    .dataframe thead th {\n",
       "        text-align: right;\n",
       "    }\n",
       "</style>\n",
       "<table border=\"1\" class=\"dataframe\">\n",
       "  <thead>\n",
       "    <tr style=\"text-align: right;\">\n",
       "      <th></th>\n",
       "      <th>ID</th>\n",
       "      <th>Location</th>\n",
       "      <th>Track</th>\n",
       "      <th>Week</th>\n",
       "      <th>Rating (Num)</th>\n",
       "      <th>Schedule Pacing</th>\n",
       "    </tr>\n",
       "  </thead>\n",
       "  <tbody>\n",
       "    <tr>\n",
       "      <th>0</th>\n",
       "      <td>134</td>\n",
       "      <td>San Francisco</td>\n",
       "      <td>Apps, Explorer</td>\n",
       "      <td>Week 1</td>\n",
       "      <td>3</td>\n",
       "      <td>Just right</td>\n",
       "    </tr>\n",
       "    <tr>\n",
       "      <th>1</th>\n",
       "      <td>36</td>\n",
       "      <td>Los Angeles</td>\n",
       "      <td>Apps</td>\n",
       "      <td>Week 1</td>\n",
       "      <td>4</td>\n",
       "      <td>A little too fast</td>\n",
       "    </tr>\n",
       "    <tr>\n",
       "      <th>2</th>\n",
       "      <td>117</td>\n",
       "      <td>San Francisco</td>\n",
       "      <td>Games</td>\n",
       "      <td>Week 1</td>\n",
       "      <td>4</td>\n",
       "      <td>Way too slow</td>\n",
       "    </tr>\n",
       "    <tr>\n",
       "      <th>3</th>\n",
       "      <td>253</td>\n",
       "      <td>NaN</td>\n",
       "      <td>NaN</td>\n",
       "      <td>Week 2</td>\n",
       "      <td>4</td>\n",
       "      <td>A little too fast</td>\n",
       "    </tr>\n",
       "    <tr>\n",
       "      <th>4</th>\n",
       "      <td>350</td>\n",
       "      <td>New York City</td>\n",
       "      <td>Apps, Explorer</td>\n",
       "      <td>Week 1</td>\n",
       "      <td>4</td>\n",
       "      <td>Just right</td>\n",
       "    </tr>\n",
       "    <tr>\n",
       "      <th>5</th>\n",
       "      <td>23</td>\n",
       "      <td>Redwood City</td>\n",
       "      <td>Apps</td>\n",
       "      <td>Week 1</td>\n",
       "      <td>5</td>\n",
       "      <td>Just right</td>\n",
       "    </tr>\n",
       "    <tr>\n",
       "      <th>6</th>\n",
       "      <td>28</td>\n",
       "      <td>Los Angeles</td>\n",
       "      <td>Apps</td>\n",
       "      <td>Week 7</td>\n",
       "      <td>5</td>\n",
       "      <td>Just right</td>\n",
       "    </tr>\n",
       "    <tr>\n",
       "      <th>7</th>\n",
       "      <td>65</td>\n",
       "      <td>San Francisco</td>\n",
       "      <td>Apps</td>\n",
       "      <td>Week 1</td>\n",
       "      <td>5</td>\n",
       "      <td>A little too slow</td>\n",
       "    </tr>\n",
       "    <tr>\n",
       "      <th>8</th>\n",
       "      <td>101</td>\n",
       "      <td>Santa Clara</td>\n",
       "      <td>Apps</td>\n",
       "      <td>Week 1</td>\n",
       "      <td>5</td>\n",
       "      <td>A little too slow</td>\n",
       "    </tr>\n",
       "    <tr>\n",
       "      <th>9</th>\n",
       "      <td>124</td>\n",
       "      <td>Santa Clara</td>\n",
       "      <td>Apps</td>\n",
       "      <td>Week 1</td>\n",
       "      <td>5</td>\n",
       "      <td>Just right</td>\n",
       "    </tr>\n",
       "  </tbody>\n",
       "</table>\n",
       "</div>"
      ],
      "text/plain": [
       "    ID       Location           Track    Week Rating (Num)    Schedule Pacing\n",
       "0  134  San Francisco  Apps, Explorer  Week 1            3         Just right\n",
       "1   36    Los Angeles            Apps  Week 1            4  A little too fast\n",
       "2  117  San Francisco           Games  Week 1            4       Way too slow\n",
       "3  253            NaN             NaN  Week 2            4  A little too fast\n",
       "4  350  New York City  Apps, Explorer  Week 1            4         Just right\n",
       "5   23   Redwood City            Apps  Week 1            5         Just right\n",
       "6   28    Los Angeles            Apps  Week 7            5         Just right\n",
       "7   65  San Francisco            Apps  Week 1            5  A little too slow\n",
       "8  101    Santa Clara            Apps  Week 1            5  A little too slow\n",
       "9  124    Santa Clara            Apps  Week 1            5         Just right"
      ]
     },
     "execution_count": 12,
     "metadata": {},
     "output_type": "execute_result"
    }
   ],
   "source": [
    "import numpy as np\n",
    "import pandas as pd\n",
    "import matplotlib.pyplot as plt\n",
    "import seaborn as sns\n",
    "\n",
    "# read csv and peek the data\n",
    "df = pd.read_csv('SA Feedback Surveys_FINAL/2017/Student Feedback Surveys-Superview.csv')\n",
    "df.head(10)"
   ]
  },
  {
   "cell_type": "markdown",
   "metadata": {},
   "source": [
    "## Getting familiar with the data in question"
   ]
  },
  {
   "cell_type": "code",
   "execution_count": 13,
   "metadata": {},
   "outputs": [
    {
     "data": {
      "text/plain": [
       "(1453, 6)"
      ]
     },
     "execution_count": 13,
     "metadata": {},
     "output_type": "execute_result"
    }
   ],
   "source": [
    "# How many rows vs columns do we have? \n",
    "df.shape"
   ]
  },
  {
   "cell_type": "code",
   "execution_count": 14,
   "metadata": {},
   "outputs": [
    {
     "data": {
      "text/plain": [
       "Index(['ID', 'Location', 'Track', 'Week', 'Rating (Num)', 'Schedule Pacing'], dtype='object')"
      ]
     },
     "execution_count": 14,
     "metadata": {},
     "output_type": "execute_result"
    }
   ],
   "source": [
    "# Lots of raw data, what a beautiful sight\n",
    "\n",
    "df.columns"
   ]
  },
  {
   "cell_type": "code",
   "execution_count": 15,
   "metadata": {},
   "outputs": [],
   "source": [
    "# 'Rating (Num)' has a space in it and too many characters, let's rename it something simpler\n",
    "df.rename(columns={'Rating (Num)':'Rating'}, inplace=True)"
   ]
  },
  {
   "cell_type": "code",
   "execution_count": 16,
   "metadata": {},
   "outputs": [
    {
     "data": {
      "text/plain": [
       "8          392\n",
       "9          384\n",
       "10         376\n",
       "7          177\n",
       "6           59\n",
       "5           35\n",
       "4           13\n",
       "3            8\n",
       "#ERROR!      3\n",
       "0            2\n",
       "1            2\n",
       "2            2\n",
       "Name: Rating, dtype: int64"
      ]
     },
     "execution_count": 16,
     "metadata": {},
     "output_type": "execute_result"
    }
   ],
   "source": [
    "# Look at the count of each rating\n",
    "df['Rating'].value_counts()"
   ]
  },
  {
   "cell_type": "code",
   "execution_count": 17,
   "metadata": {},
   "outputs": [],
   "source": [
    "# Eliminate #ERROR! rows from the df because, upon inspection, they have no useful data / were left blank\n",
    "df = df[df['Rating'] != '#ERROR!']"
   ]
  },
  {
   "cell_type": "code",
   "execution_count": 18,
   "metadata": {},
   "outputs": [
    {
     "data": {
      "text/plain": [
       "0        3\n",
       "1        4\n",
       "2        4\n",
       "3        4\n",
       "4        4\n",
       "        ..\n",
       "1448    10\n",
       "1449     8\n",
       "1450    10\n",
       "1451     1\n",
       "1452     8\n",
       "Name: Rating, Length: 1450, dtype: int64"
      ]
     },
     "execution_count": 18,
     "metadata": {},
     "output_type": "execute_result"
    }
   ],
   "source": [
    "# Store loc of Rating as integers\n",
    "df_rating = df.loc[:, 'Rating'].astype(int)\n",
    "df_rating"
   ]
  },
  {
   "cell_type": "markdown",
   "metadata": {},
   "source": [
    "# Calculate NPS"
   ]
  },
  {
   "cell_type": "code",
   "execution_count": 19,
   "metadata": {},
   "outputs": [],
   "source": [
    "# Categorize each rating from our formula. Promoters are 9 & 10, Passives 7 & 8, Detractors 0 - 6\n",
    "# I assume ratings of 0 would have been ratings of 1\n",
    "\n",
    "def categorize_rating(rating):\n",
    "    \n",
    "    if rating > 10 or rating < 0:\n",
    "        raise ValueError('Value Out of Bounds')\n",
    "    elif rating >= 9:\n",
    "        return 'Promoter'\n",
    "    elif rating >= 7:\n",
    "        return 'Passive'\n",
    "    else:\n",
    "        return 'Detractor'"
   ]
  },
  {
   "cell_type": "code",
   "execution_count": 20,
   "metadata": {},
   "outputs": [
    {
     "data": {
      "text/html": [
       "<div>\n",
       "<style scoped>\n",
       "    .dataframe tbody tr th:only-of-type {\n",
       "        vertical-align: middle;\n",
       "    }\n",
       "\n",
       "    .dataframe tbody tr th {\n",
       "        vertical-align: top;\n",
       "    }\n",
       "\n",
       "    .dataframe thead th {\n",
       "        text-align: right;\n",
       "    }\n",
       "</style>\n",
       "<table border=\"1\" class=\"dataframe\">\n",
       "  <thead>\n",
       "    <tr style=\"text-align: right;\">\n",
       "      <th></th>\n",
       "      <th>ID</th>\n",
       "      <th>Location</th>\n",
       "      <th>Track</th>\n",
       "      <th>Week</th>\n",
       "      <th>Rating</th>\n",
       "      <th>Schedule Pacing</th>\n",
       "      <th>Category</th>\n",
       "    </tr>\n",
       "  </thead>\n",
       "  <tbody>\n",
       "    <tr>\n",
       "      <th>0</th>\n",
       "      <td>134</td>\n",
       "      <td>San Francisco</td>\n",
       "      <td>Apps, Explorer</td>\n",
       "      <td>Week 1</td>\n",
       "      <td>3</td>\n",
       "      <td>Just right</td>\n",
       "      <td>Detractor</td>\n",
       "    </tr>\n",
       "    <tr>\n",
       "      <th>1</th>\n",
       "      <td>36</td>\n",
       "      <td>Los Angeles</td>\n",
       "      <td>Apps</td>\n",
       "      <td>Week 1</td>\n",
       "      <td>4</td>\n",
       "      <td>A little too fast</td>\n",
       "      <td>Detractor</td>\n",
       "    </tr>\n",
       "    <tr>\n",
       "      <th>2</th>\n",
       "      <td>117</td>\n",
       "      <td>San Francisco</td>\n",
       "      <td>Games</td>\n",
       "      <td>Week 1</td>\n",
       "      <td>4</td>\n",
       "      <td>Way too slow</td>\n",
       "      <td>Detractor</td>\n",
       "    </tr>\n",
       "    <tr>\n",
       "      <th>3</th>\n",
       "      <td>253</td>\n",
       "      <td>NaN</td>\n",
       "      <td>NaN</td>\n",
       "      <td>Week 2</td>\n",
       "      <td>4</td>\n",
       "      <td>A little too fast</td>\n",
       "      <td>Detractor</td>\n",
       "    </tr>\n",
       "    <tr>\n",
       "      <th>4</th>\n",
       "      <td>350</td>\n",
       "      <td>New York City</td>\n",
       "      <td>Apps, Explorer</td>\n",
       "      <td>Week 1</td>\n",
       "      <td>4</td>\n",
       "      <td>Just right</td>\n",
       "      <td>Detractor</td>\n",
       "    </tr>\n",
       "    <tr>\n",
       "      <th>5</th>\n",
       "      <td>23</td>\n",
       "      <td>Redwood City</td>\n",
       "      <td>Apps</td>\n",
       "      <td>Week 1</td>\n",
       "      <td>5</td>\n",
       "      <td>Just right</td>\n",
       "      <td>Detractor</td>\n",
       "    </tr>\n",
       "    <tr>\n",
       "      <th>6</th>\n",
       "      <td>28</td>\n",
       "      <td>Los Angeles</td>\n",
       "      <td>Apps</td>\n",
       "      <td>Week 7</td>\n",
       "      <td>5</td>\n",
       "      <td>Just right</td>\n",
       "      <td>Detractor</td>\n",
       "    </tr>\n",
       "    <tr>\n",
       "      <th>7</th>\n",
       "      <td>65</td>\n",
       "      <td>San Francisco</td>\n",
       "      <td>Apps</td>\n",
       "      <td>Week 1</td>\n",
       "      <td>5</td>\n",
       "      <td>A little too slow</td>\n",
       "      <td>Detractor</td>\n",
       "    </tr>\n",
       "    <tr>\n",
       "      <th>8</th>\n",
       "      <td>101</td>\n",
       "      <td>Santa Clara</td>\n",
       "      <td>Apps</td>\n",
       "      <td>Week 1</td>\n",
       "      <td>5</td>\n",
       "      <td>A little too slow</td>\n",
       "      <td>Detractor</td>\n",
       "    </tr>\n",
       "    <tr>\n",
       "      <th>9</th>\n",
       "      <td>124</td>\n",
       "      <td>Santa Clara</td>\n",
       "      <td>Apps</td>\n",
       "      <td>Week 1</td>\n",
       "      <td>5</td>\n",
       "      <td>Just right</td>\n",
       "      <td>Detractor</td>\n",
       "    </tr>\n",
       "  </tbody>\n",
       "</table>\n",
       "</div>"
      ],
      "text/plain": [
       "    ID       Location           Track    Week Rating    Schedule Pacing  \\\n",
       "0  134  San Francisco  Apps, Explorer  Week 1      3         Just right   \n",
       "1   36    Los Angeles            Apps  Week 1      4  A little too fast   \n",
       "2  117  San Francisco           Games  Week 1      4       Way too slow   \n",
       "3  253            NaN             NaN  Week 2      4  A little too fast   \n",
       "4  350  New York City  Apps, Explorer  Week 1      4         Just right   \n",
       "5   23   Redwood City            Apps  Week 1      5         Just right   \n",
       "6   28    Los Angeles            Apps  Week 7      5         Just right   \n",
       "7   65  San Francisco            Apps  Week 1      5  A little too slow   \n",
       "8  101    Santa Clara            Apps  Week 1      5  A little too slow   \n",
       "9  124    Santa Clara            Apps  Week 1      5         Just right   \n",
       "\n",
       "    Category  \n",
       "0  Detractor  \n",
       "1  Detractor  \n",
       "2  Detractor  \n",
       "3  Detractor  \n",
       "4  Detractor  \n",
       "5  Detractor  \n",
       "6  Detractor  \n",
       "7  Detractor  \n",
       "8  Detractor  \n",
       "9  Detractor  "
      ]
     },
     "execution_count": 20,
     "metadata": {},
     "output_type": "execute_result"
    }
   ],
   "source": [
    "# apply the categorize function to each rating and store the output in a new column\n",
    "# create 'Category' column in df\n",
    "\n",
    "df['Category'] = df_rating.apply(categorize_rating)\n",
    "df.head(10)"
   ]
  },
  {
   "cell_type": "code",
   "execution_count": 93,
   "metadata": {},
   "outputs": [
    {
     "name": "stdout",
     "output_type": "stream",
     "text": [
      "760 569 121\n"
     ]
    },
    {
     "data": {
      "text/plain": [
       "'NPS: 44.06896551724138'"
      ]
     },
     "execution_count": 93,
     "metadata": {},
     "output_type": "execute_result"
    }
   ],
   "source": [
    "# parse new column: Categories, calculate NPS\n",
    "\n",
    "def calculate_nps(categories):\n",
    "    promoters = categories.value_counts()['Promoter']\n",
    "    passives = categories.value_counts()['Passive']\n",
    "    detractors = categories.value_counts()['Detractor']\n",
    "\n",
    "    # the last week has no detractors. Instead of blank, make it 0\n",
    "    print(promoters, passives, detractors)\n",
    "    return (promoters - detractors) / (promoters+passives+detractors)*100\n",
    "\n",
    "overall_nps = calculate_nps(df['Category'])\n",
    "\n",
    "f\"NPS: {overall_nps}\""
   ]
  },
  {
   "cell_type": "code",
   "execution_count": 110,
   "metadata": {},
   "outputs": [
    {
     "name": "stdout",
     "output_type": "stream",
     "text": [
      "760 569 121\n"
     ]
    },
    {
     "data": {
      "text/plain": [
       "44.06896551724138"
      ]
     },
     "execution_count": 110,
     "metadata": {},
     "output_type": "execute_result"
    }
   ],
   "source": [
    "def calc_nps(categories):\n",
    "    prom = categories.eq('Promoter').astype(int).sum()\n",
    "    pas = categories.eq('Passive').astype(int).sum()\n",
    "    det = categories.eq('Detractor').astype(int).sum()\n",
    "    print(prom, pas, det)\n",
    "    return (prom-det)/(prom+pas+det)*100\n",
    "# df['CAR'].eq('BMW').astype(int).groupby(df['DATE']).sum()\n",
    "\n",
    "calc_nps(df['Category'])"
   ]
  },
  {
   "cell_type": "code",
   "execution_count": 124,
   "metadata": {},
   "outputs": [
    {
     "name": "stdout",
     "output_type": "stream",
     "text": [
      "ID                 0\n",
      "Location           0\n",
      "Track              0\n",
      "Week               0\n",
      "Rating             0\n",
      "Schedule Pacing    0\n",
      "Category           7\n",
      "dtype: int64 ID                 0\n",
      "Location           0\n",
      "Track              0\n",
      "Week               0\n",
      "Rating             0\n",
      "Schedule Pacing    0\n",
      "Category           2\n",
      "dtype: int64 ID                 0\n",
      "Location           0\n",
      "Track              0\n",
      "Week               0\n",
      "Rating             0\n",
      "Schedule Pacing    0\n",
      "Category           0\n",
      "dtype: int64\n"
     ]
    },
    {
     "data": {
      "text/plain": [
       "ID                       NaN\n",
       "Location                 NaN\n",
       "Track                    NaN\n",
       "Week                     NaN\n",
       "Rating                   NaN\n",
       "Schedule Pacing          NaN\n",
       "Category           77.777778\n",
       "dtype: float64"
      ]
     },
     "execution_count": 124,
     "metadata": {},
     "output_type": "execute_result"
    }
   ],
   "source": [
    "calc_nps(df[(df['Week']==8) & (df['Category'])])"
   ]
  },
  {
   "cell_type": "markdown",
   "metadata": {},
   "source": [
    "# Diving into the data\n",
    "\n",
    "Here, I explore some important questions to find out more about trends in the data.\n",
    "\n",
    "How many more promoters are there than detractors across our 2017 data?\n",
    "Which track boasts the best promoter-to-detractor ratio?\n",
    "Does the student experience get better the longer that they are enrolled at the Summer Academy?\n",
    "Does student satisfaction vary by location?\n",
    "What are things we could find here that could “help the business”?\n",
    "What sorts of information does this dataset contain?\n",
    "What kinds of questions might we be able to answer with this data?\n",
    "What kinds of questions can’t we answer with this data?\n",
    "What sorts of information might be actionable?\n",
    "How can you present your findings in a way that non-technical employees can understand and use to make decisions?"
   ]
  },
  {
   "cell_type": "markdown",
   "metadata": {},
   "source": [
    "## Question 1: How many more promoters are there than detractors across our 2017 data?"
   ]
  },
  {
   "cell_type": "code",
   "execution_count": 76,
   "metadata": {},
   "outputs": [],
   "source": [
    "# Let's make a pie chart to help visualize the spread of each Category relative to the whole\n",
    "\n",
    "BINS = [-np.inf, 0.00, np.inf]\n",
    "LABELS = [\"Promoter\", \"Passive\", \"Detractor\"]\n",
    "colors = ['Green', 'Yellowgreen', 'pink']"
   ]
  },
  {
   "cell_type": "code",
   "execution_count": 77,
   "metadata": {},
   "outputs": [],
   "source": [
    "cat_df = df[\"Category\"].value_counts()"
   ]
  },
  {
   "cell_type": "code",
   "execution_count": 78,
   "metadata": {},
   "outputs": [
    {
     "data": {
      "text/plain": [
       "(-1.1089888454347638,\n",
       " 1.1224835377140603,\n",
       " -1.1146208968133489,\n",
       " 1.2018786623859277)"
      ]
     },
     "execution_count": 78,
     "metadata": {},
     "output_type": "execute_result"
    },
    {
     "data": {
      "image/png": "[encoded data removed]",
      "text/plain": [
       "<Figure size 432x288 with 1 Axes>"
      ]
     },
     "metadata": {},
     "output_type": "display_data"
    }
   ],
   "source": [
    "explode = (0, 0, 0.1)\n",
    "plt.pie(cat_df.values, labels=LABELS, colors=colors, autopct='%1.1f%%', shadow=True, startangle=90, explode = explode)\n",
    "\n",
    "fig = plt.gcf()\n",
    "\n",
    "plt.axis('equal')"
   ]
  },
  {
   "cell_type": "code",
   "execution_count": 79,
   "metadata": {},
   "outputs": [
    {
     "data": {
      "text/plain": [
       "(760, 121)"
      ]
     },
     "execution_count": 79,
     "metadata": {},
     "output_type": "execute_result"
    }
   ],
   "source": [
    "promoters = df['Category'].value_counts()['Promoter']\n",
    "detractors = df['Category'].value_counts()['Detractor']\n",
    "promoters, detractors"
   ]
  },
  {
   "cell_type": "code",
   "execution_count": 80,
   "metadata": {},
   "outputs": [
    {
     "data": {
      "text/plain": [
       "'We have 639 more promoters than detractors.'"
      ]
     },
     "execution_count": 80,
     "metadata": {},
     "output_type": "execute_result"
    }
   ],
   "source": [
    "f'We have {promoters - detractors} more promoters than detractors.'"
   ]
  },
  {
   "cell_type": "markdown",
   "metadata": {},
   "source": [
    "## Question 2: Which track boasts the best promoter-to-detractor ratio?"
   ]
  },
  {
   "cell_type": "code",
   "execution_count": 81,
   "metadata": {},
   "outputs": [
    {
     "data": {
      "text/plain": [
       "Apps               871\n",
       "Apps, Explorer     224\n",
       "Games              208\n",
       "VR                  60\n",
       "Games, Explorer     43\n",
       "Name: Track, dtype: int64"
      ]
     },
     "execution_count": 81,
     "metadata": {},
     "output_type": "execute_result"
    }
   ],
   "source": [
    "# Take a quick peek at the numbers of the data we're interested in\n",
    "# Like how many people were in each of the tracks\n",
    "\n",
    "df['Track'].value_counts()"
   ]
  },
  {
   "cell_type": "code",
   "execution_count": 82,
   "metadata": {},
   "outputs": [
    {
     "data": {
      "text/html": [
       "<div>\n",
       "<style scoped>\n",
       "    .dataframe tbody tr th:only-of-type {\n",
       "        vertical-align: middle;\n",
       "    }\n",
       "\n",
       "    .dataframe tbody tr th {\n",
       "        vertical-align: top;\n",
       "    }\n",
       "\n",
       "    .dataframe thead th {\n",
       "        text-align: right;\n",
       "    }\n",
       "</style>\n",
       "<table border=\"1\" class=\"dataframe\">\n",
       "  <thead>\n",
       "    <tr style=\"text-align: right;\">\n",
       "      <th>Category</th>\n",
       "      <th>Detractor</th>\n",
       "      <th>Passive</th>\n",
       "      <th>Promoter</th>\n",
       "    </tr>\n",
       "    <tr>\n",
       "      <th>Track</th>\n",
       "      <th></th>\n",
       "      <th></th>\n",
       "      <th></th>\n",
       "    </tr>\n",
       "  </thead>\n",
       "  <tbody>\n",
       "    <tr>\n",
       "      <th>Apps</th>\n",
       "      <td>78</td>\n",
       "      <td>355</td>\n",
       "      <td>438</td>\n",
       "    </tr>\n",
       "    <tr>\n",
       "      <th>Apps, Explorer</th>\n",
       "      <td>24</td>\n",
       "      <td>109</td>\n",
       "      <td>91</td>\n",
       "    </tr>\n",
       "    <tr>\n",
       "      <th>Games</th>\n",
       "      <td>9</td>\n",
       "      <td>66</td>\n",
       "      <td>133</td>\n",
       "    </tr>\n",
       "    <tr>\n",
       "      <th>Games, Explorer</th>\n",
       "      <td>0</td>\n",
       "      <td>12</td>\n",
       "      <td>31</td>\n",
       "    </tr>\n",
       "    <tr>\n",
       "      <th>VR</th>\n",
       "      <td>2</td>\n",
       "      <td>12</td>\n",
       "      <td>46</td>\n",
       "    </tr>\n",
       "  </tbody>\n",
       "</table>\n",
       "</div>"
      ],
      "text/plain": [
       "Category         Detractor  Passive  Promoter\n",
       "Track                                        \n",
       "Apps                    78      355       438\n",
       "Apps, Explorer          24      109        91\n",
       "Games                    9       66       133\n",
       "Games, Explorer          0       12        31\n",
       "VR                       2       12        46"
      ]
     },
     "execution_count": 82,
     "metadata": {},
     "output_type": "execute_result"
    }
   ],
   "source": [
    "# and how many liked dislike or were neutral\n",
    "pd.crosstab(df['Track'], df['Category'])"
   ]
  },
  {
   "cell_type": "code",
   "execution_count": 83,
   "metadata": {},
   "outputs": [
    {
     "data": {
      "text/plain": [
       "Text(0.5, 1, 'Correlation between Track and Category')"
      ]
     },
     "execution_count": 83,
     "metadata": {},
     "output_type": "execute_result"
    },
    {
     "data": {
      "image/png": "[encoded data removed]",
      "text/plain": [
       "<Figure size 432x288 with 2 Axes>"
      ]
     },
     "metadata": {
      "needs_background": "light"
     },
     "output_type": "display_data"
    }
   ],
   "source": [
    "m = sns.heatmap(pd.crosstab(df['Track'], df['Category'], normalize='index'), cmap=\"YlGnBu\", annot=True)\n",
    "plt.title('Correlation between Track and Category')"
   ]
  },
  {
   "cell_type": "markdown",
   "metadata": {},
   "source": [
    "Overall Games,Explorer Track wins with the unicorn score of 0% Detractors and 72% Promoters. \n",
    "VR Track has the highest promoters with 77% Promoters and only 3% Detractors."
   ]
  },
  {
   "cell_type": "markdown",
   "metadata": {},
   "source": [
    "## Question 3: Does the student experience get better the longer that they are enrolled at the Summer Academy? "
   ]
  },
  {
   "cell_type": "code",
   "execution_count": 84,
   "metadata": {},
   "outputs": [
    {
     "data": {
      "text/html": [
       "<div>\n",
       "<style scoped>\n",
       "    .dataframe tbody tr th:only-of-type {\n",
       "        vertical-align: middle;\n",
       "    }\n",
       "\n",
       "    .dataframe tbody tr th {\n",
       "        vertical-align: top;\n",
       "    }\n",
       "\n",
       "    .dataframe thead th {\n",
       "        text-align: right;\n",
       "    }\n",
       "</style>\n",
       "<table border=\"1\" class=\"dataframe\">\n",
       "  <thead>\n",
       "    <tr style=\"text-align: right;\">\n",
       "      <th>Category</th>\n",
       "      <th>Detractor</th>\n",
       "      <th>Passive</th>\n",
       "      <th>Promoter</th>\n",
       "    </tr>\n",
       "    <tr>\n",
       "      <th>Week</th>\n",
       "      <th></th>\n",
       "      <th></th>\n",
       "      <th></th>\n",
       "    </tr>\n",
       "  </thead>\n",
       "  <tbody>\n",
       "    <tr>\n",
       "      <th>1</th>\n",
       "      <td>28</td>\n",
       "      <td>131</td>\n",
       "      <td>129</td>\n",
       "    </tr>\n",
       "    <tr>\n",
       "      <th>2</th>\n",
       "      <td>23</td>\n",
       "      <td>116</td>\n",
       "      <td>137</td>\n",
       "    </tr>\n",
       "    <tr>\n",
       "      <th>3</th>\n",
       "      <td>20</td>\n",
       "      <td>86</td>\n",
       "      <td>135</td>\n",
       "    </tr>\n",
       "    <tr>\n",
       "      <th>4</th>\n",
       "      <td>19</td>\n",
       "      <td>74</td>\n",
       "      <td>100</td>\n",
       "    </tr>\n",
       "    <tr>\n",
       "      <th>5</th>\n",
       "      <td>15</td>\n",
       "      <td>67</td>\n",
       "      <td>97</td>\n",
       "    </tr>\n",
       "    <tr>\n",
       "      <th>6</th>\n",
       "      <td>8</td>\n",
       "      <td>59</td>\n",
       "      <td>77</td>\n",
       "    </tr>\n",
       "    <tr>\n",
       "      <th>7</th>\n",
       "      <td>8</td>\n",
       "      <td>34</td>\n",
       "      <td>78</td>\n",
       "    </tr>\n",
       "    <tr>\n",
       "      <th>8</th>\n",
       "      <td>0</td>\n",
       "      <td>2</td>\n",
       "      <td>7</td>\n",
       "    </tr>\n",
       "  </tbody>\n",
       "</table>\n",
       "</div>"
      ],
      "text/plain": [
       "Category  Detractor  Passive  Promoter\n",
       "Week                                  \n",
       "1                28      131       129\n",
       "2                23      116       137\n",
       "3                20       86       135\n",
       "4                19       74       100\n",
       "5                15       67        97\n",
       "6                 8       59        77\n",
       "7                 8       34        78\n",
       "8                 0        2         7"
      ]
     },
     "execution_count": 84,
     "metadata": {},
     "output_type": "execute_result"
    }
   ],
   "source": [
    "# I'll use graphs to visualize the trend of student experience (NPS) over the weeks of the program\n",
    "# Let's peek at the relationship between the two within our df\n",
    "pd.crosstab(df['Week'], df['Category'])"
   ]
  },
  {
   "cell_type": "code",
   "execution_count": 85,
   "metadata": {},
   "outputs": [
    {
     "data": {
      "text/plain": [
       "<matplotlib.axes._subplots.AxesSubplot at 0x124f0e4d0>"
      ]
     },
     "execution_count": 85,
     "metadata": {},
     "output_type": "execute_result"
    },
    {
     "data": {
      "image/png": "[encoded data removed]",
      "text/plain": [
       "<Figure size 432x288 with 1 Axes>"
      ]
     },
     "metadata": {
      "needs_background": "light"
     },
     "output_type": "display_data"
    }
   ],
   "source": [
    "# It's important to acknowledge the steep decline in available data over time\n",
    "\n",
    "df['Week'].value_counts().plot(kind='bar')"
   ]
  },
  {
   "cell_type": "code",
   "execution_count": 116,
   "metadata": {},
   "outputs": [
    {
     "data": {
      "text/plain": [
       "Category   Week\n",
       "Detractor  1        28\n",
       "           2        23\n",
       "           3        20\n",
       "           4        19\n",
       "           5        15\n",
       "           6         8\n",
       "           7         8\n",
       "Passive    1       131\n",
       "           2       116\n",
       "           3        86\n",
       "           4        74\n",
       "           5        67\n",
       "           6        59\n",
       "           7        34\n",
       "           8         2\n",
       "Promoter   2       137\n",
       "           3       135\n",
       "           1       129\n",
       "           4       100\n",
       "           5        97\n",
       "           7        78\n",
       "           6        77\n",
       "           8         7\n",
       "Name: Week, dtype: int64"
      ]
     },
     "execution_count": 116,
     "metadata": {},
     "output_type": "execute_result"
    }
   ],
   "source": [
    "# Make a df of the weeks grouped by category\n",
    "\n",
    "cat_weeks = df.groupby('Category')['Week']\n",
    "cat_weeks.value_counts()"
   ]
  },
  {
   "cell_type": "code",
   "execution_count": 117,
   "metadata": {},
   "outputs": [
    {
     "name": "stdout",
     "output_type": "stream",
     "text": [
      "Week\n",
      "2    137\n",
      "3    135\n",
      "1    129\n",
      "4    100\n",
      "5     97\n",
      "7     78\n",
      "6     77\n",
      "8      7\n",
      "Name: Week, dtype: int64 Week\n",
      "1    131\n",
      "2    116\n",
      "3     86\n",
      "4     74\n",
      "5     67\n",
      "6     59\n",
      "7     34\n",
      "8      2\n",
      "Name: Week, dtype: int64 Week\n",
      "1    28\n",
      "2    23\n",
      "3    20\n",
      "4    19\n",
      "5    15\n",
      "6     8\n",
      "7     8\n",
      "Name: Week, dtype: int64\n"
     ]
    },
    {
     "data": {
      "text/plain": [
       "Week\n",
       "1    35.069444\n",
       "2    41.304348\n",
       "3    47.717842\n",
       "4    41.968912\n",
       "5    45.810056\n",
       "6    47.916667\n",
       "7    58.333333\n",
       "8          NaN\n",
       "Name: Week, dtype: float64"
      ]
     },
     "execution_count": 117,
     "metadata": {},
     "output_type": "execute_result"
    }
   ],
   "source": [
    "# Then calculate nps for each week\n",
    "weekly_nps = calculate_nps(cat_weeks)\n",
    "weekly_nps"
   ]
  },
  {
   "cell_type": "code",
   "execution_count": 118,
   "metadata": {},
   "outputs": [
    {
     "data": {
      "text/plain": [
       "<matplotlib.lines.Line2D at 0x125211ad0>"
      ]
     },
     "execution_count": 118,
     "metadata": {},
     "output_type": "execute_result"
    },
    {
     "data": {
      "image/png": "[encoded data removed]",
      "text/plain": [
       "<Figure size 432x288 with 1 Axes>"
      ]
     },
     "metadata": {
      "needs_background": "light"
     },
     "output_type": "display_data"
    }
   ],
   "source": [
    "# and graph it in blue along with the overall nps in red\n",
    "fig, ax = plt.subplots()\n",
    "ax.plot(weekly_nps)\n",
    "ax.axhline(overall_nps, color='green', linestyle='--')"
   ]
  },
  {
   "cell_type": "markdown",
   "metadata": {},
   "source": [
    "Overall the trend is positive. We knew this from the NPS score being a positive ~44. From the graph we can see the general trend over each week. \n",
    "\n",
    "Note: This result could be because the only people who wrote reviews over time were the people who enjoyed the program.. Survivorship Bias. This correlates with the amount of recorded data significantly dropping off over time as the ratings increase."
   ]
  },
  {
   "cell_type": "markdown",
   "metadata": {},
   "source": [
    "## Question 4: Does student satisfaction vary by location?"
   ]
  },
  {
   "cell_type": "markdown",
   "metadata": {},
   "source": [
    "Instead of rating per week, we look at ratings relative to location "
   ]
  },
  {
   "cell_type": "code",
   "execution_count": 36,
   "metadata": {},
   "outputs": [
    {
     "data": {
      "text/html": [
       "<div>\n",
       "<style scoped>\n",
       "    .dataframe tbody tr th:only-of-type {\n",
       "        vertical-align: middle;\n",
       "    }\n",
       "\n",
       "    .dataframe tbody tr th {\n",
       "        vertical-align: top;\n",
       "    }\n",
       "\n",
       "    .dataframe thead th {\n",
       "        text-align: right;\n",
       "    }\n",
       "</style>\n",
       "<table border=\"1\" class=\"dataframe\">\n",
       "  <thead>\n",
       "    <tr style=\"text-align: right;\">\n",
       "      <th>Category</th>\n",
       "      <th>Detractor</th>\n",
       "      <th>Passive</th>\n",
       "      <th>Promoter</th>\n",
       "    </tr>\n",
       "    <tr>\n",
       "      <th>Location</th>\n",
       "      <th></th>\n",
       "      <th></th>\n",
       "      <th></th>\n",
       "    </tr>\n",
       "  </thead>\n",
       "  <tbody>\n",
       "    <tr>\n",
       "      <th>Atlanta</th>\n",
       "      <td>0</td>\n",
       "      <td>9</td>\n",
       "      <td>24</td>\n",
       "    </tr>\n",
       "    <tr>\n",
       "      <th>Beijing</th>\n",
       "      <td>0</td>\n",
       "      <td>25</td>\n",
       "      <td>53</td>\n",
       "    </tr>\n",
       "    <tr>\n",
       "      <th>Chicago</th>\n",
       "      <td>4</td>\n",
       "      <td>29</td>\n",
       "      <td>37</td>\n",
       "    </tr>\n",
       "    <tr>\n",
       "      <th>Hong Kong</th>\n",
       "      <td>3</td>\n",
       "      <td>7</td>\n",
       "      <td>1</td>\n",
       "    </tr>\n",
       "    <tr>\n",
       "      <th>Los Angeles</th>\n",
       "      <td>5</td>\n",
       "      <td>33</td>\n",
       "      <td>68</td>\n",
       "    </tr>\n",
       "    <tr>\n",
       "      <th>New York City</th>\n",
       "      <td>35</td>\n",
       "      <td>136</td>\n",
       "      <td>159</td>\n",
       "    </tr>\n",
       "    <tr>\n",
       "      <th>Oakland</th>\n",
       "      <td>2</td>\n",
       "      <td>18</td>\n",
       "      <td>27</td>\n",
       "    </tr>\n",
       "    <tr>\n",
       "      <th>Redwood City</th>\n",
       "      <td>5</td>\n",
       "      <td>23</td>\n",
       "      <td>30</td>\n",
       "    </tr>\n",
       "    <tr>\n",
       "      <th>San Francisco</th>\n",
       "      <td>31</td>\n",
       "      <td>135</td>\n",
       "      <td>194</td>\n",
       "    </tr>\n",
       "    <tr>\n",
       "      <th>Santa Clara</th>\n",
       "      <td>13</td>\n",
       "      <td>95</td>\n",
       "      <td>93</td>\n",
       "    </tr>\n",
       "    <tr>\n",
       "      <th>Tokyo</th>\n",
       "      <td>9</td>\n",
       "      <td>23</td>\n",
       "      <td>33</td>\n",
       "    </tr>\n",
       "    <tr>\n",
       "      <th>Washington DC</th>\n",
       "      <td>6</td>\n",
       "      <td>21</td>\n",
       "      <td>20</td>\n",
       "    </tr>\n",
       "  </tbody>\n",
       "</table>\n",
       "</div>"
      ],
      "text/plain": [
       "Category       Detractor  Passive  Promoter\n",
       "Location                                   \n",
       "Atlanta                0        9        24\n",
       "Beijing                0       25        53\n",
       "Chicago                4       29        37\n",
       "Hong Kong              3        7         1\n",
       "Los Angeles            5       33        68\n",
       "New York City         35      136       159\n",
       "Oakland                2       18        27\n",
       "Redwood City           5       23        30\n",
       "San Francisco         31      135       194\n",
       "Santa Clara           13       95        93\n",
       "Tokyo                  9       23        33\n",
       "Washington DC          6       21        20"
      ]
     },
     "execution_count": 36,
     "metadata": {},
     "output_type": "execute_result"
    }
   ],
   "source": [
    "# Amount in each Category per location\n",
    "pd.crosstab(df['Location'], df['Category'])"
   ]
  },
  {
   "cell_type": "code",
   "execution_count": 37,
   "metadata": {},
   "outputs": [
    {
     "data": {
      "text/plain": [
       "<matplotlib.axes._subplots.AxesSubplot at 0x1247d6fd0>"
      ]
     },
     "execution_count": 37,
     "metadata": {},
     "output_type": "execute_result"
    },
    {
     "data": {
      "image/png": "[encoded data removed]",
      "text/plain": [
       "<Figure size 432x288 with 1 Axes>"
      ]
     },
     "metadata": {
      "needs_background": "light"
     },
     "output_type": "display_data"
    }
   ],
   "source": [
    "# Histogram of amount of people per location\n",
    "df['Location'].value_counts().plot(kind='bar')"
   ]
  },
  {
   "cell_type": "code",
   "execution_count": 38,
   "metadata": {},
   "outputs": [
    {
     "data": {
      "text/plain": [
       "<matplotlib.axes._subplots.AxesSubplot at 0x1248c7610>"
      ]
     },
     "execution_count": 38,
     "metadata": {},
     "output_type": "execute_result"
    },
    {
     "data": {
      "image/png": "[encoded data removed]",
      "text/plain": [
       "<Figure size 432x288 with 1 Axes>"
      ]
     },
     "metadata": {
      "needs_background": "light"
     },
     "output_type": "display_data"
    }
   ],
   "source": [
    "cat_locs = df.groupby('Category')['Location']\n",
    "location_nps = calculate_nps(cat_locs)\n",
    "location_nps.plot(kind='bar')"
   ]
  },
  {
   "cell_type": "code",
   "execution_count": 39,
   "metadata": {},
   "outputs": [
    {
     "data": {
      "text/plain": [
       "67.94871794871796"
      ]
     },
     "execution_count": 39,
     "metadata": {},
     "output_type": "execute_result"
    }
   ],
   "source": [
    "nps_beijing = (53 + 0) / (53 + 25 + 0)\n",
    "nps_beijing * 100"
   ]
  },
  {
   "cell_type": "code",
   "execution_count": 40,
   "metadata": {},
   "outputs": [
    {
     "data": {
      "text/plain": [
       "Location\n",
       "Atlanta                NaN\n",
       "Beijing                NaN\n",
       "Chicago          47.142857\n",
       "Hong Kong       -18.181818\n",
       "Los Angeles      59.433962\n",
       "New York City    37.575758\n",
       "Oakland          53.191489\n",
       "Redwood City     43.103448\n",
       "San Francisco    45.277778\n",
       "Santa Clara      39.800995\n",
       "Tokyo            36.923077\n",
       "Washington DC    29.787234\n",
       "Name: Location, dtype: float64"
      ]
     },
     "execution_count": 40,
     "metadata": {},
     "output_type": "execute_result"
    }
   ],
   "source": [
    "location_nps"
   ]
  },
  {
   "cell_type": "markdown",
   "metadata": {},
   "source": [
    "As we can see from the data, location NPS varies greatly. HongKong struggles to find more than 1 promoter, however Atlanta sees no Detractors at all. From both graphs above we can see that these values are based on the number of people in attandance which varies more than the NPS data in fact.\n",
    "\n",
    "Overall, however, the NPS scores look balanced based on location with a few outliers."
   ]
  },
  {
   "cell_type": "markdown",
   "metadata": {},
   "source": [
    "## Question 5: What are things we could find here that could “help the business”?"
   ]
  },
  {
   "cell_type": "markdown",
   "metadata": {},
   "source": [
    "Having data drop off over time does not have to be the case. For more reliable results this should be a high priority. Excluding Week 8, by half way through the program we see just over half the responses."
   ]
  },
  {
   "cell_type": "markdown",
   "metadata": {},
   "source": [
    "Let's see what is common within each Category"
   ]
  },
  {
   "cell_type": "markdown",
   "metadata": {},
   "source": [
    "### What can we learn about Location relative to Track? "
   ]
  },
  {
   "cell_type": "code",
   "execution_count": 41,
   "metadata": {},
   "outputs": [
    {
     "data": {
      "text/html": [
       "<div>\n",
       "<style scoped>\n",
       "    .dataframe tbody tr th:only-of-type {\n",
       "        vertical-align: middle;\n",
       "    }\n",
       "\n",
       "    .dataframe tbody tr th {\n",
       "        vertical-align: top;\n",
       "    }\n",
       "\n",
       "    .dataframe thead th {\n",
       "        text-align: right;\n",
       "    }\n",
       "</style>\n",
       "<table border=\"1\" class=\"dataframe\">\n",
       "  <thead>\n",
       "    <tr style=\"text-align: right;\">\n",
       "      <th>Location</th>\n",
       "      <th>Atlanta</th>\n",
       "      <th>Beijing</th>\n",
       "      <th>Chicago</th>\n",
       "      <th>Hong Kong</th>\n",
       "      <th>Los Angeles</th>\n",
       "      <th>New York City</th>\n",
       "      <th>Oakland</th>\n",
       "      <th>Redwood City</th>\n",
       "      <th>San Francisco</th>\n",
       "      <th>Santa Clara</th>\n",
       "      <th>Tokyo</th>\n",
       "      <th>Washington DC</th>\n",
       "    </tr>\n",
       "    <tr>\n",
       "      <th>Track</th>\n",
       "      <th></th>\n",
       "      <th></th>\n",
       "      <th></th>\n",
       "      <th></th>\n",
       "      <th></th>\n",
       "      <th></th>\n",
       "      <th></th>\n",
       "      <th></th>\n",
       "      <th></th>\n",
       "      <th></th>\n",
       "      <th></th>\n",
       "      <th></th>\n",
       "    </tr>\n",
       "  </thead>\n",
       "  <tbody>\n",
       "    <tr>\n",
       "      <th>Apps</th>\n",
       "      <td>15</td>\n",
       "      <td>76</td>\n",
       "      <td>52</td>\n",
       "      <td>1</td>\n",
       "      <td>75</td>\n",
       "      <td>194</td>\n",
       "      <td>39</td>\n",
       "      <td>58</td>\n",
       "      <td>155</td>\n",
       "      <td>111</td>\n",
       "      <td>65</td>\n",
       "      <td>30</td>\n",
       "    </tr>\n",
       "    <tr>\n",
       "      <th>Apps, Explorer</th>\n",
       "      <td>18</td>\n",
       "      <td>2</td>\n",
       "      <td>18</td>\n",
       "      <td>10</td>\n",
       "      <td>0</td>\n",
       "      <td>49</td>\n",
       "      <td>8</td>\n",
       "      <td>0</td>\n",
       "      <td>77</td>\n",
       "      <td>25</td>\n",
       "      <td>0</td>\n",
       "      <td>17</td>\n",
       "    </tr>\n",
       "    <tr>\n",
       "      <th>Games</th>\n",
       "      <td>0</td>\n",
       "      <td>0</td>\n",
       "      <td>0</td>\n",
       "      <td>0</td>\n",
       "      <td>31</td>\n",
       "      <td>59</td>\n",
       "      <td>0</td>\n",
       "      <td>0</td>\n",
       "      <td>68</td>\n",
       "      <td>50</td>\n",
       "      <td>0</td>\n",
       "      <td>0</td>\n",
       "    </tr>\n",
       "    <tr>\n",
       "      <th>Games, Explorer</th>\n",
       "      <td>0</td>\n",
       "      <td>0</td>\n",
       "      <td>0</td>\n",
       "      <td>0</td>\n",
       "      <td>0</td>\n",
       "      <td>28</td>\n",
       "      <td>0</td>\n",
       "      <td>0</td>\n",
       "      <td>0</td>\n",
       "      <td>15</td>\n",
       "      <td>0</td>\n",
       "      <td>0</td>\n",
       "    </tr>\n",
       "    <tr>\n",
       "      <th>VR</th>\n",
       "      <td>0</td>\n",
       "      <td>0</td>\n",
       "      <td>0</td>\n",
       "      <td>0</td>\n",
       "      <td>0</td>\n",
       "      <td>0</td>\n",
       "      <td>0</td>\n",
       "      <td>0</td>\n",
       "      <td>60</td>\n",
       "      <td>0</td>\n",
       "      <td>0</td>\n",
       "      <td>0</td>\n",
       "    </tr>\n",
       "  </tbody>\n",
       "</table>\n",
       "</div>"
      ],
      "text/plain": [
       "Location         Atlanta  Beijing  Chicago  Hong Kong  Los Angeles  \\\n",
       "Track                                                                \n",
       "Apps                  15       76       52          1           75   \n",
       "Apps, Explorer        18        2       18         10            0   \n",
       "Games                  0        0        0          0           31   \n",
       "Games, Explorer        0        0        0          0            0   \n",
       "VR                     0        0        0          0            0   \n",
       "\n",
       "Location         New York City  Oakland  Redwood City  San Francisco  \\\n",
       "Track                                                                  \n",
       "Apps                       194       39            58            155   \n",
       "Apps, Explorer              49        8             0             77   \n",
       "Games                       59        0             0             68   \n",
       "Games, Explorer             28        0             0              0   \n",
       "VR                           0        0             0             60   \n",
       "\n",
       "Location         Santa Clara  Tokyo  Washington DC  \n",
       "Track                                               \n",
       "Apps                     111     65             30  \n",
       "Apps, Explorer            25      0             17  \n",
       "Games                     50      0              0  \n",
       "Games, Explorer           15      0              0  \n",
       "VR                         0      0              0  "
      ]
     },
     "execution_count": 41,
     "metadata": {},
     "output_type": "execute_result"
    }
   ],
   "source": [
    "pd.crosstab(df['Track'], df['Location'])"
   ]
  },
  {
   "cell_type": "markdown",
   "metadata": {},
   "source": [
    "### If people do change tracks, what does the trend look like? "
   ]
  },
  {
   "cell_type": "code",
   "execution_count": 42,
   "metadata": {},
   "outputs": [
    {
     "data": {
      "text/html": [
       "<div>\n",
       "<style scoped>\n",
       "    .dataframe tbody tr th:only-of-type {\n",
       "        vertical-align: middle;\n",
       "    }\n",
       "\n",
       "    .dataframe tbody tr th {\n",
       "        vertical-align: top;\n",
       "    }\n",
       "\n",
       "    .dataframe thead th {\n",
       "        text-align: right;\n",
       "    }\n",
       "</style>\n",
       "<table border=\"1\" class=\"dataframe\">\n",
       "  <thead>\n",
       "    <tr style=\"text-align: right;\">\n",
       "      <th>Week</th>\n",
       "      <th>Week 1</th>\n",
       "      <th>Week 2</th>\n",
       "      <th>Week 3</th>\n",
       "      <th>Week 4</th>\n",
       "      <th>Week 5</th>\n",
       "      <th>Week 6</th>\n",
       "      <th>Week 7</th>\n",
       "      <th>Week 8</th>\n",
       "    </tr>\n",
       "    <tr>\n",
       "      <th>Track</th>\n",
       "      <th></th>\n",
       "      <th></th>\n",
       "      <th></th>\n",
       "      <th></th>\n",
       "      <th></th>\n",
       "      <th></th>\n",
       "      <th></th>\n",
       "      <th></th>\n",
       "    </tr>\n",
       "  </thead>\n",
       "  <tbody>\n",
       "    <tr>\n",
       "      <th>Apps</th>\n",
       "      <td>183</td>\n",
       "      <td>176</td>\n",
       "      <td>142</td>\n",
       "      <td>105</td>\n",
       "      <td>101</td>\n",
       "      <td>88</td>\n",
       "      <td>72</td>\n",
       "      <td>4</td>\n",
       "    </tr>\n",
       "    <tr>\n",
       "      <th>Apps, Explorer</th>\n",
       "      <td>42</td>\n",
       "      <td>40</td>\n",
       "      <td>38</td>\n",
       "      <td>34</td>\n",
       "      <td>31</td>\n",
       "      <td>23</td>\n",
       "      <td>16</td>\n",
       "      <td>0</td>\n",
       "    </tr>\n",
       "    <tr>\n",
       "      <th>Games</th>\n",
       "      <td>35</td>\n",
       "      <td>29</td>\n",
       "      <td>36</td>\n",
       "      <td>33</td>\n",
       "      <td>31</td>\n",
       "      <td>21</td>\n",
       "      <td>19</td>\n",
       "      <td>4</td>\n",
       "    </tr>\n",
       "    <tr>\n",
       "      <th>Games, Explorer</th>\n",
       "      <td>6</td>\n",
       "      <td>6</td>\n",
       "      <td>7</td>\n",
       "      <td>7</td>\n",
       "      <td>6</td>\n",
       "      <td>6</td>\n",
       "      <td>5</td>\n",
       "      <td>0</td>\n",
       "    </tr>\n",
       "    <tr>\n",
       "      <th>VR</th>\n",
       "      <td>10</td>\n",
       "      <td>10</td>\n",
       "      <td>10</td>\n",
       "      <td>10</td>\n",
       "      <td>7</td>\n",
       "      <td>5</td>\n",
       "      <td>7</td>\n",
       "      <td>1</td>\n",
       "    </tr>\n",
       "  </tbody>\n",
       "</table>\n",
       "</div>"
      ],
      "text/plain": [
       "Week             Week 1  Week 2  Week 3  Week 4  Week 5  Week 6  Week 7  \\\n",
       "Track                                                                     \n",
       "Apps                183     176     142     105     101      88      72   \n",
       "Apps, Explorer       42      40      38      34      31      23      16   \n",
       "Games                35      29      36      33      31      21      19   \n",
       "Games, Explorer       6       6       7       7       6       6       5   \n",
       "VR                   10      10      10      10       7       5       7   \n",
       "\n",
       "Week             Week 8  \n",
       "Track                    \n",
       "Apps                  4  \n",
       "Apps, Explorer        0  \n",
       "Games                 4  \n",
       "Games, Explorer       0  \n",
       "VR                    1  "
      ]
     },
     "execution_count": 42,
     "metadata": {},
     "output_type": "execute_result"
    }
   ],
   "source": [
    "pd.crosstab(df['Track'], df['Week'])"
   ]
  },
  {
   "cell_type": "markdown",
   "metadata": {},
   "source": [
    "Looks consistent, little to no changes"
   ]
  },
  {
   "cell_type": "markdown",
   "metadata": {},
   "source": [
    "### What was pacing feedback like for each category? Track?"
   ]
  },
  {
   "cell_type": "code",
   "execution_count": 43,
   "metadata": {},
   "outputs": [
    {
     "data": {
      "text/html": [
       "<div>\n",
       "<style scoped>\n",
       "    .dataframe tbody tr th:only-of-type {\n",
       "        vertical-align: middle;\n",
       "    }\n",
       "\n",
       "    .dataframe tbody tr th {\n",
       "        vertical-align: top;\n",
       "    }\n",
       "\n",
       "    .dataframe thead th {\n",
       "        text-align: right;\n",
       "    }\n",
       "</style>\n",
       "<table border=\"1\" class=\"dataframe\">\n",
       "  <thead>\n",
       "    <tr style=\"text-align: right;\">\n",
       "      <th>Category</th>\n",
       "      <th>Detractor</th>\n",
       "      <th>Passive</th>\n",
       "      <th>Promoter</th>\n",
       "    </tr>\n",
       "    <tr>\n",
       "      <th>Schedule Pacing</th>\n",
       "      <th></th>\n",
       "      <th></th>\n",
       "      <th></th>\n",
       "    </tr>\n",
       "  </thead>\n",
       "  <tbody>\n",
       "    <tr>\n",
       "      <th>A little too fast</th>\n",
       "      <td>25</td>\n",
       "      <td>140</td>\n",
       "      <td>124</td>\n",
       "    </tr>\n",
       "    <tr>\n",
       "      <th>A little too slow</th>\n",
       "      <td>19</td>\n",
       "      <td>41</td>\n",
       "      <td>40</td>\n",
       "    </tr>\n",
       "    <tr>\n",
       "      <th>Just right</th>\n",
       "      <td>65</td>\n",
       "      <td>378</td>\n",
       "      <td>591</td>\n",
       "    </tr>\n",
       "    <tr>\n",
       "      <th>Way too fast</th>\n",
       "      <td>10</td>\n",
       "      <td>9</td>\n",
       "      <td>4</td>\n",
       "    </tr>\n",
       "    <tr>\n",
       "      <th>Way too slow</th>\n",
       "      <td>2</td>\n",
       "      <td>1</td>\n",
       "      <td>1</td>\n",
       "    </tr>\n",
       "  </tbody>\n",
       "</table>\n",
       "</div>"
      ],
      "text/plain": [
       "Category           Detractor  Passive  Promoter\n",
       "Schedule Pacing                                \n",
       "A little too fast         25      140       124\n",
       "A little too slow         19       41        40\n",
       "Just right                65      378       591\n",
       "Way too fast              10        9         4\n",
       "Way too slow               2        1         1"
      ]
     },
     "execution_count": 43,
     "metadata": {},
     "output_type": "execute_result"
    }
   ],
   "source": [
    "pd.crosstab(df['Schedule Pacing'], df['Category'])"
   ]
  },
  {
   "cell_type": "markdown",
   "metadata": {},
   "source": [
    "This tells us nothing about the Detractors as most of them said it was too fast, and obviously the Promoters said it was Just Right. \n",
    "\n",
    "However, we do learn that the biggest deviation was \"A little too fast\""
   ]
  },
  {
   "cell_type": "code",
   "execution_count": 44,
   "metadata": {},
   "outputs": [
    {
     "data": {
      "text/plain": [
       "<matplotlib.axes._subplots.AxesSubplot at 0x1248bee50>"
      ]
     },
     "execution_count": 44,
     "metadata": {},
     "output_type": "execute_result"
    },
    {
     "data": {
      "image/png": "[encoded data removed]",
      "text/plain": [
       "<Figure size 432x288 with 1 Axes>"
      ]
     },
     "metadata": {
      "needs_background": "light"
     },
     "output_type": "display_data"
    }
   ],
   "source": [
    "df.groupby('Schedule Pacing')['Rating'].count().plot()"
   ]
  },
  {
   "cell_type": "markdown",
   "metadata": {},
   "source": [
    "### NPS of 44 is a good score. In order to improve we could do more to cater  to international students, as ratings from Hong Kong students is by far the worst. \n",
    "\n",
    "We want more people to recommend to ppl in each city"
   ]
  },
  {
   "cell_type": "markdown",
   "metadata": {},
   "source": [
    "## Let's explore why there was a dip in ratings between Week 3 and 4"
   ]
  },
  {
   "cell_type": "code",
   "execution_count": 45,
   "metadata": {},
   "outputs": [
    {
     "data": {
      "text/html": [
       "<div>\n",
       "<style scoped>\n",
       "    .dataframe tbody tr th:only-of-type {\n",
       "        vertical-align: middle;\n",
       "    }\n",
       "\n",
       "    .dataframe tbody tr th {\n",
       "        vertical-align: top;\n",
       "    }\n",
       "\n",
       "    .dataframe thead th {\n",
       "        text-align: right;\n",
       "    }\n",
       "</style>\n",
       "<table border=\"1\" class=\"dataframe\">\n",
       "  <thead>\n",
       "    <tr style=\"text-align: right;\">\n",
       "      <th>Schedule Pacing</th>\n",
       "      <th>A little too fast</th>\n",
       "      <th>A little too slow</th>\n",
       "      <th>Just right</th>\n",
       "      <th>Way too fast</th>\n",
       "      <th>Way too slow</th>\n",
       "    </tr>\n",
       "    <tr>\n",
       "      <th>Week</th>\n",
       "      <th></th>\n",
       "      <th></th>\n",
       "      <th></th>\n",
       "      <th></th>\n",
       "      <th></th>\n",
       "    </tr>\n",
       "  </thead>\n",
       "  <tbody>\n",
       "    <tr>\n",
       "      <th>Week 1</th>\n",
       "      <td>64</td>\n",
       "      <td>39</td>\n",
       "      <td>179</td>\n",
       "      <td>5</td>\n",
       "      <td>1</td>\n",
       "    </tr>\n",
       "    <tr>\n",
       "      <th>Week 2</th>\n",
       "      <td>80</td>\n",
       "      <td>27</td>\n",
       "      <td>161</td>\n",
       "      <td>7</td>\n",
       "      <td>1</td>\n",
       "    </tr>\n",
       "    <tr>\n",
       "      <th>Week 3</th>\n",
       "      <td>49</td>\n",
       "      <td>14</td>\n",
       "      <td>175</td>\n",
       "      <td>2</td>\n",
       "      <td>1</td>\n",
       "    </tr>\n",
       "    <tr>\n",
       "      <th>Week 4</th>\n",
       "      <td>30</td>\n",
       "      <td>8</td>\n",
       "      <td>151</td>\n",
       "      <td>3</td>\n",
       "      <td>1</td>\n",
       "    </tr>\n",
       "    <tr>\n",
       "      <th>Week 5</th>\n",
       "      <td>29</td>\n",
       "      <td>6</td>\n",
       "      <td>143</td>\n",
       "      <td>1</td>\n",
       "      <td>0</td>\n",
       "    </tr>\n",
       "    <tr>\n",
       "      <th>Week 6</th>\n",
       "      <td>21</td>\n",
       "      <td>2</td>\n",
       "      <td>119</td>\n",
       "      <td>2</td>\n",
       "      <td>0</td>\n",
       "    </tr>\n",
       "    <tr>\n",
       "      <th>Week 7</th>\n",
       "      <td>15</td>\n",
       "      <td>2</td>\n",
       "      <td>101</td>\n",
       "      <td>2</td>\n",
       "      <td>0</td>\n",
       "    </tr>\n",
       "    <tr>\n",
       "      <th>Week 8</th>\n",
       "      <td>1</td>\n",
       "      <td>2</td>\n",
       "      <td>5</td>\n",
       "      <td>1</td>\n",
       "      <td>0</td>\n",
       "    </tr>\n",
       "  </tbody>\n",
       "</table>\n",
       "</div>"
      ],
      "text/plain": [
       "Schedule Pacing  A little too fast  A little too slow  Just right  \\\n",
       "Week                                                                \n",
       "Week 1                          64                 39         179   \n",
       "Week 2                          80                 27         161   \n",
       "Week 3                          49                 14         175   \n",
       "Week 4                          30                  8         151   \n",
       "Week 5                          29                  6         143   \n",
       "Week 6                          21                  2         119   \n",
       "Week 7                          15                  2         101   \n",
       "Week 8                           1                  2           5   \n",
       "\n",
       "Schedule Pacing  Way too fast  Way too slow  \n",
       "Week                                         \n",
       "Week 1                      5             1  \n",
       "Week 2                      7             1  \n",
       "Week 3                      2             1  \n",
       "Week 4                      3             1  \n",
       "Week 5                      1             0  \n",
       "Week 6                      2             0  \n",
       "Week 7                      2             0  \n",
       "Week 8                      1             0  "
      ]
     },
     "execution_count": 45,
     "metadata": {},
     "output_type": "execute_result"
    }
   ],
   "source": [
    "pd.crosstab(df['Week'], df['Schedule Pacing'])"
   ]
  },
  {
   "cell_type": "markdown",
   "metadata": {},
   "source": [
    "### As we can see from the feedback, the decline in ratings from Week 3 - 4 is reflected in the schedule pacing and we can get a better understanding of what improvement to make."
   ]
  },
  {
   "cell_type": "code",
   "execution_count": 46,
   "metadata": {},
   "outputs": [
    {
     "data": {
      "text/plain": [
       "<matplotlib.axes._subplots.AxesSubplot at 0x1249e2450>"
      ]
     },
     "execution_count": 46,
     "metadata": {},
     "output_type": "execute_result"
    },
    {
     "data": {
      "image/png": "[encoded data removed]",
      "text/plain": [
       "<Figure size 432x288 with 1 Axes>"
      ]
     },
     "metadata": {
      "needs_background": "light"
     },
     "output_type": "display_data"
    }
   ],
   "source": [
    "df.groupby('Week')['Schedule Pacing'].count().plot()"
   ]
  },
  {
   "cell_type": "markdown",
   "metadata": {},
   "source": [
    "### Above, we get an idea of the quantity of feedback forms each week\n",
    "## Below, I graph the pace for the whole program for each week to see if we can get any clues"
   ]
  },
  {
   "cell_type": "code",
   "execution_count": 47,
   "metadata": {},
   "outputs": [],
   "source": [
    "weekly_paces = lambda pace: df.loc[df['Schedule Pacing'] == pace].groupby('Week')['Schedule Pacing'].count()/df.groupby('Week')['Schedule Pacing'].count()"
   ]
  },
  {
   "cell_type": "code",
   "execution_count": 48,
   "metadata": {},
   "outputs": [
    {
     "data": {
      "text/plain": [
       "<matplotlib.legend.Legend at 0x124b82cd0>"
      ]
     },
     "execution_count": 48,
     "metadata": {},
     "output_type": "execute_result"
    },
    {
     "data": {
      "image/png": "[encoded data removed]",
      "text/plain": [
       "<Figure size 432x288 with 1 Axes>"
      ]
     },
     "metadata": {
      "needs_background": "light"
     },
     "output_type": "display_data"
    }
   ],
   "source": [
    "fig, ax = plt.subplots()\n",
    "ax.plot(weekly_paces('Way too fast'), label='Way too fast', c='Red')\n",
    "ax.plot(weekly_paces('A little too fast'), label='A little fast', c='Yellow')\n",
    "ax.plot(weekly_paces('Just right'), label='Just Right', c='Green')\n",
    "ax.plot(weekly_paces('A little too slow'), label='A little slow', c='Blue')\n",
    "ax.plot(weekly_paces('Way too slow'), label='Way too slow', c='Purple')\n",
    "\n",
    "\n",
    "plt.legend()"
   ]
  },
  {
   "cell_type": "markdown",
   "metadata": {},
   "source": [
    "### Between weeks 3 and 4 we can see the 'A little fast' rating drop off while 'just right' increases. \n",
    "\n",
    "### This may seem off.. let's look at the NPS scores for each week:"
   ]
  },
  {
   "cell_type": "code",
   "execution_count": 49,
   "metadata": {},
   "outputs": [],
   "source": [
    "# Convert weeks to integers by splitting at the space and taking just the number at the end\n",
    "df['Week'] = df.apply(lambda row: int(row['Week'].strip().split(' ')[-1]), axis=1)"
   ]
  },
  {
   "cell_type": "code",
   "execution_count": 50,
   "metadata": {},
   "outputs": [
    {
     "data": {
      "text/plain": [
       "47.71784232365145"
      ]
     },
     "execution_count": 50,
     "metadata": {},
     "output_type": "execute_result"
    }
   ],
   "source": [
    "week3_nps = calculate_nps(df[df['Week']==3]['Category'])\n",
    "week3_nps"
   ]
  },
  {
   "cell_type": "code",
   "execution_count": 51,
   "metadata": {},
   "outputs": [
    {
     "data": {
      "text/plain": [
       "41.968911917098445"
      ]
     },
     "execution_count": 51,
     "metadata": {},
     "output_type": "execute_result"
    }
   ],
   "source": [
    "week4_nps = calculate_nps(df[df['Week']==4]['Category'])\n",
    "week4_nps"
   ]
  },
  {
   "cell_type": "markdown",
   "metadata": {},
   "source": [
    "### Here we can clearly see the massive dip in NPS score. Maybe we can find out which track this came from if any. Let's graph the NPS per track per week & the pace for each track to get a better idea where these figures are coming from. "
   ]
  },
  {
   "cell_type": "code",
   "execution_count": 74,
   "metadata": {},
   "outputs": [
    {
     "data": {
      "text/plain": [
       "Promoter    8\n",
       "Passive     2\n",
       "Name: Category, dtype: int64"
      ]
     },
     "execution_count": 74,
     "metadata": {},
     "output_type": "execute_result"
    }
   ],
   "source": [
    "# Make a df of the weeks grouped by category\n",
    "week3_apps_week = df[(df['Week'] == 3) & (df['Track'] == 'Apps')] \n",
    "week3_appex_week = df[(df['Week'] == 3) & (df['Track'] == 'Apps, Explorer')] \n",
    "week3_game_week = df[(df['Week'] == 3) & (df['Track'] == 'Games')] \n",
    "week3_gamex_week = df[(df['Week'] == 3) & (df['Track'] == 'Games, Explorer')] \n",
    "week3_vr_week = df[(df['Week'] == 3) & (df['Track'] == 'VR')] \n",
    "\n",
    "\n",
    "# week3_apps_week\n",
    "week3_apps_week_nps = calculate_nps(week3_apps_week['Category'])\n",
    "week3_appex_week_nps = calculate_nps(week3_appex_week['Category'])\n",
    "week3_game_week_nps = calculate_nps(week3_game_week['Category'])\n",
    "# week3_gamex_week_nps = calculate_nps(week3_gamex_week['Category'])\n",
    "# week3_vr_week_nps = calculate_nps(week3_vr_week['Category'])\n",
    "\n",
    "week3_vr_week['Category'].value_counts()"
   ]
  },
  {
   "cell_type": "code",
   "execution_count": null,
   "metadata": {},
   "outputs": [],
   "source": [
    "f'Week3 --- Apps:{week3_apps_week_nps}, App Ex:{week3_appex_week_nps}, Game:{week3_game_week_nps}'\n",
    ", Game Ex:{week3_gamex_week_nps}, VR:{week3_vr_week_nps}"
   ]
  },
  {
   "cell_type": "code",
   "execution_count": 53,
   "metadata": {},
   "outputs": [
    {
     "ename": "NameError",
     "evalue": "name 'track_cat' is not defined",
     "output_type": "error",
     "traceback": [
      "\u001b[0;31m---------------------------------------------------------------------------\u001b[0m",
      "\u001b[0;31mNameError\u001b[0m                                 Traceback (most recent call last)",
      "\u001b[0;32m<ipython-input-53-fcde259d4ee5>\u001b[0m in \u001b[0;36m<module>\u001b[0;34m\u001b[0m\n\u001b[1;32m      1\u001b[0m \u001b[0;31m# Then calculate nps for each week\u001b[0m\u001b[0;34m\u001b[0m\u001b[0;34m\u001b[0m\u001b[0;34m\u001b[0m\u001b[0m\n\u001b[0;32m----> 2\u001b[0;31m \u001b[0mweekly_track_nps\u001b[0m \u001b[0;34m=\u001b[0m \u001b[0mcalculate_nps\u001b[0m\u001b[0;34m(\u001b[0m\u001b[0mtrack_cat\u001b[0m\u001b[0;34m)\u001b[0m\u001b[0;34m\u001b[0m\u001b[0;34m\u001b[0m\u001b[0m\n\u001b[0m\u001b[1;32m      3\u001b[0m \u001b[0mweekly_track_nps\u001b[0m\u001b[0;34m\u001b[0m\u001b[0;34m\u001b[0m\u001b[0m\n",
      "\u001b[0;31mNameError\u001b[0m: name 'track_cat' is not defined"
     ]
    }
   ],
   "source": [
    "# Then calculate nps for each week\n",
    "weekly_track_nps = calculate_nps(track_cat)\n",
    "weekly_track_nps"
   ]
  },
  {
   "cell_type": "code",
   "execution_count": null,
   "metadata": {},
   "outputs": [],
   "source": [
    "# and graph it in blue along with the overall nps in red\n",
    "fig, ax = plt.subplots()\n",
    "ax.plot(weekly_track_nps)\n",
    "ax.axhline(overall_nps, color='green', linestyle='--')"
   ]
  },
  {
   "cell_type": "code",
   "execution_count": null,
   "metadata": {},
   "outputs": [],
   "source": []
  }
 ],
 "metadata": {
  "kernelspec": {
   "display_name": "Python 3",
   "language": "python",
   "name": "python3"
  },
  "language_info": {
   "codemirror_mode": {
    "name": "ipython",
    "version": 3
   },
   "file_extension": ".py",
   "mimetype": "text/x-python",
   "name": "python",
   "nbconvert_exporter": "python",
   "pygments_lexer": "ipython3",
   "version": "3.7.6"
  }
 },
 "nbformat": 4,
 "nbformat_minor": 2
}
